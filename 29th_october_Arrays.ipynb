{
 "cells": [
  {
   "cell_type": "code",
   "execution_count": 1,
   "id": "b579da25-d476-4066-959e-cfdd7d5a95f2",
   "metadata": {},
   "outputs": [],
   "source": [
    "# ques 1. Given an array, check if it contains any duplicates or not.\n",
    "#arr = [1, 2, 4, 2, 5, 9]\n",
    "#Output = True"
   ]
  },
  {
   "cell_type": "code",
   "execution_count": 7,
   "id": "5838ddc3-1cf8-40d2-a6b1-53060b83860b",
   "metadata": {},
   "outputs": [
    {
     "name": "stdout",
     "output_type": "stream",
     "text": [
      "duplicay in array? True\n"
     ]
    }
   ],
   "source": [
    "def duplicates_check(arr):\n",
    "    arr.sort()\n",
    "    for i in range(1,len(arr)):\n",
    "        if arr[i]==arr[i-1]:\n",
    "            return True\n",
    "    else:\n",
    "         return False\n",
    "arr=[1,2,4,2,5,9]\n",
    "result=duplicates_check(arr)\n",
    "print(\"duplicay in array?\",result)"
   ]
  },
  {
   "cell_type": "code",
   "execution_count": 8,
   "id": "73750d8a-6809-48ec-8e51-bef142f4efd5",
   "metadata": {},
   "outputs": [],
   "source": [
    "# ques 2. Given an array and an integer k, rotate the array to the right by k steps.\n",
    "#arr = [1, 2, 3, 4, 5, 6, 7] k = 3\n",
    "#Output = [5, 6, 7, 1, 2, 3, 4]"
   ]
  },
  {
   "cell_type": "code",
   "execution_count": 12,
   "id": "90565b52-d1a7-413c-811c-c46eb4aab0a6",
   "metadata": {},
   "outputs": [
    {
     "name": "stdout",
     "output_type": "stream",
     "text": [
      "result after rotate the array to the right by k steps are: [5, 6, 7, 1, 2, 3, 4]\n"
     ]
    }
   ],
   "source": [
    "def rotate_array(arr,k):\n",
    "    # if k is equal to the arr size then take modulo\n",
    "    k=k%n\n",
    "    # Reverse the entire array\n",
    "    arr.reverse()\n",
    "    # Reverse the first k elements\n",
    "    arr[:k]=reversed(arr[:k])\n",
    "    # Reverse the remaining element\n",
    "    arr[k:]=reversed(arr[k:])\n",
    "    return arr\n",
    "arr=[1,2,3,4,5,6,7]\n",
    "k=3\n",
    "n=len(arr)\n",
    "output=rotate_array(arr,k)\n",
    "print(\"result after rotate the array to the right by k steps are:\",output)"
   ]
  },
  {
   "cell_type": "code",
   "execution_count": 20,
   "id": "a0664d08-a0c2-499c-9c08-d00d1498d898",
   "metadata": {},
   "outputs": [],
   "source": [
    "#3. Reverse the given array in-place, means without using any extra data structure.\n",
    "#arr = [2, 4, 5, 7, 9, 12]\n",
    "#Output = [12, 9, 7, 5, 4, 2]"
   ]
  },
  {
   "cell_type": "code",
   "execution_count": 24,
   "id": "0910e322-9938-4136-a338-8c9700168a40",
   "metadata": {},
   "outputs": [
    {
     "name": "stdout",
     "output_type": "stream",
     "text": [
      "after reverse the array without using any extra data structure [12, 9, 7, 5, 4, 2]\n"
     ]
    }
   ],
   "source": [
    "def reverse_array(arr):\n",
    "    arr.reverse()\n",
    "    return arr\n",
    "arr=[2,4,5,7,9,12]\n",
    "result=reverse_array(arr)\n",
    "print(\"after reverse the array without using any extra data structure\",result)"
   ]
  },
  {
   "cell_type": "code",
   "execution_count": 25,
   "id": "412f2dae-8979-4364-803f-7ea86287ff51",
   "metadata": {},
   "outputs": [],
   "source": [
    "# ques 4. Given an array of integers, find the maximum element in an array\n",
    "#arr = [10, 5, 20, 8, 15]\n",
    "#Output = 20"
   ]
  },
  {
   "cell_type": "code",
   "execution_count": 36,
   "id": "762eaa7e-1400-49a1-b597-0f745b5815e5",
   "metadata": {},
   "outputs": [
    {
     "name": "stdout",
     "output_type": "stream",
     "text": [
      "maximum element in this array is: 20\n"
     ]
    }
   ],
   "source": [
    "def max_element(arr):\n",
    "    max=arr[0]\n",
    "    for i in range(1,len(arr)):\n",
    "        if arr[i]> max:\n",
    "            max=arr[i]\n",
    "    return max\n",
    "arr=[10,5,20,8,15]\n",
    "n=len(arr)\n",
    "result=max_element(arr)\n",
    "print(\"maximum element in this array is:\",result)"
   ]
  },
  {
   "cell_type": "code",
   "execution_count": 37,
   "id": "45a97463-c4f7-43d2-9812-d50bf8634e3d",
   "metadata": {},
   "outputs": [],
   "source": [
    "# ques 5. Given a sorted array, remove the duplicate element without using any extra data structure.\n",
    "# arr = [1, 1, 2, 2, 2, 3, 3, 4, 4, 4, 5, 5]\n",
    "# Output = [1, 2, 3, 4, 5]"
   ]
  },
  {
   "cell_type": "code",
   "execution_count": 49,
   "id": "48584c27-4efa-435b-b8e1-7a7dbe1e6e37",
   "metadata": {},
   "outputs": [
    {
     "name": "stdout",
     "output_type": "stream",
     "text": [
      "After removing duplicates in the array: [1, 2, 3, 4, 5]\n"
     ]
    }
   ],
   "source": [
    "def remove_duplicates(arr):\n",
    "    if not arr:\n",
    "        return arr\n",
    "    n = len(arr)\n",
    "    j = 0\n",
    "    for i in range(1, n):\n",
    "        if arr[i] != arr[j]:\n",
    "            j += 1\n",
    "            arr[j] = arr[i]\n",
    "    del arr[j+1:]\n",
    "    return arr\n",
    "arr = [1, 1, 2, 2, 2, 3, 3, 4, 4, 4, 5, 5]\n",
    "remove_duplicates(arr)\n",
    "print(\"After removing duplicates in the array:\", arr)"
   ]
  },
  {
   "cell_type": "code",
   "execution_count": null,
   "id": "c67eac4a-5fb3-471c-832e-7efd7ab5c08d",
   "metadata": {},
   "outputs": [],
   "source": []
  },
  {
   "cell_type": "code",
   "execution_count": null,
   "id": "17fb20df-387a-42a6-b31a-7ded83572104",
   "metadata": {},
   "outputs": [],
   "source": []
  }
 ],
 "metadata": {
  "kernelspec": {
   "display_name": "Python 3 (ipykernel)",
   "language": "python",
   "name": "python3"
  },
  "language_info": {
   "codemirror_mode": {
    "name": "ipython",
    "version": 3
   },
   "file_extension": ".py",
   "mimetype": "text/x-python",
   "name": "python",
   "nbconvert_exporter": "python",
   "pygments_lexer": "ipython3",
   "version": "3.10.8"
  }
 },
 "nbformat": 4,
 "nbformat_minor": 5
}
